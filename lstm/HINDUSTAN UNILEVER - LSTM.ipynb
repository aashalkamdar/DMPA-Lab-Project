{
 "cells": [
  {
   "cell_type": "code",
   "execution_count": 9,
   "metadata": {},
   "outputs": [],
   "source": [
    "import math\n",
    "import numpy as np\n",
    "import pandas as pd\n",
    "import pandas_datareader as pdr\n",
    "import matplotlib.pyplot as plt \n",
    "\n",
    "from datetime import datetime\n",
    "from pandas_datareader.nasdaq_trader import get_nasdaq_symbols\n",
    "from sklearn.preprocessing import MinMaxScaler\n",
    "from keras.models import Sequential\n",
    "from keras.layers import Dense, LSTM, Dropout\n",
    "from sklearn.metrics import mean_squared_error\n",
    "plt.style.use('classic')"
   ]
  },
  {
   "cell_type": "code",
   "execution_count": null,
   "metadata": {},
   "outputs": [],
   "source": []
  },
  {
   "cell_type": "code",
   "execution_count": 10,
   "metadata": {},
   "outputs": [],
   "source": [
    "hu = pdr.DataReader('HINDUNILVR.BO', data_source='yahoo', start='2015-10-23', end='2019-12-30')"
   ]
  },
  {
   "cell_type": "code",
   "execution_count": 11,
   "metadata": {},
   "outputs": [
    {
     "name": "stdout",
     "output_type": "stream",
     "text": [
      "<class 'pandas.core.frame.DataFrame'>\n",
      "DatetimeIndex: 1027 entries, 2015-10-23 to 2019-12-30\n",
      "Data columns (total 6 columns):\n",
      "High         1027 non-null float64\n",
      "Low          1027 non-null float64\n",
      "Open         1027 non-null float64\n",
      "Close        1027 non-null float64\n",
      "Volume       1027 non-null float64\n",
      "Adj Close    1027 non-null float64\n",
      "dtypes: float64(6)\n",
      "memory usage: 56.2 KB\n"
     ]
    }
   ],
   "source": [
    "hu.info()"
   ]
  },
  {
   "cell_type": "code",
   "execution_count": 12,
   "metadata": {},
   "outputs": [
    {
     "data": {
      "text/html": [
       "<div>\n",
       "<style scoped>\n",
       "    .dataframe tbody tr th:only-of-type {\n",
       "        vertical-align: middle;\n",
       "    }\n",
       "\n",
       "    .dataframe tbody tr th {\n",
       "        vertical-align: top;\n",
       "    }\n",
       "\n",
       "    .dataframe thead th {\n",
       "        text-align: right;\n",
       "    }\n",
       "</style>\n",
       "<table border=\"1\" class=\"dataframe\">\n",
       "  <thead>\n",
       "    <tr style=\"text-align: right;\">\n",
       "      <th></th>\n",
       "      <th>High</th>\n",
       "      <th>Low</th>\n",
       "      <th>Open</th>\n",
       "      <th>Close</th>\n",
       "      <th>Volume</th>\n",
       "      <th>Adj Close</th>\n",
       "    </tr>\n",
       "    <tr>\n",
       "      <th>Date</th>\n",
       "      <th></th>\n",
       "      <th></th>\n",
       "      <th></th>\n",
       "      <th></th>\n",
       "      <th></th>\n",
       "      <th></th>\n",
       "    </tr>\n",
       "  </thead>\n",
       "  <tbody>\n",
       "    <tr>\n",
       "      <th>2015-10-23</th>\n",
       "      <td>805.349976</td>\n",
       "      <td>792.000000</td>\n",
       "      <td>792.0</td>\n",
       "      <td>800.049988</td>\n",
       "      <td>124474.0</td>\n",
       "      <td>753.185669</td>\n",
       "    </tr>\n",
       "    <tr>\n",
       "      <th>2015-10-26</th>\n",
       "      <td>808.799988</td>\n",
       "      <td>800.000000</td>\n",
       "      <td>800.0</td>\n",
       "      <td>807.049988</td>\n",
       "      <td>47932.0</td>\n",
       "      <td>759.775574</td>\n",
       "    </tr>\n",
       "    <tr>\n",
       "      <th>2015-10-27</th>\n",
       "      <td>813.250000</td>\n",
       "      <td>799.500000</td>\n",
       "      <td>807.0</td>\n",
       "      <td>811.400024</td>\n",
       "      <td>49230.0</td>\n",
       "      <td>763.870911</td>\n",
       "    </tr>\n",
       "    <tr>\n",
       "      <th>2015-10-28</th>\n",
       "      <td>818.700012</td>\n",
       "      <td>807.900024</td>\n",
       "      <td>812.0</td>\n",
       "      <td>817.400024</td>\n",
       "      <td>50728.0</td>\n",
       "      <td>769.519409</td>\n",
       "    </tr>\n",
       "    <tr>\n",
       "      <th>2015-10-29</th>\n",
       "      <td>817.500000</td>\n",
       "      <td>799.150024</td>\n",
       "      <td>815.0</td>\n",
       "      <td>801.549988</td>\n",
       "      <td>63678.0</td>\n",
       "      <td>754.597778</td>\n",
       "    </tr>\n",
       "  </tbody>\n",
       "</table>\n",
       "</div>"
      ],
      "text/plain": [
       "                  High         Low   Open       Close    Volume   Adj Close\n",
       "Date                                                                       \n",
       "2015-10-23  805.349976  792.000000  792.0  800.049988  124474.0  753.185669\n",
       "2015-10-26  808.799988  800.000000  800.0  807.049988   47932.0  759.775574\n",
       "2015-10-27  813.250000  799.500000  807.0  811.400024   49230.0  763.870911\n",
       "2015-10-28  818.700012  807.900024  812.0  817.400024   50728.0  769.519409\n",
       "2015-10-29  817.500000  799.150024  815.0  801.549988   63678.0  754.597778"
      ]
     },
     "execution_count": 12,
     "metadata": {},
     "output_type": "execute_result"
    }
   ],
   "source": [
    "hu.head()"
   ]
  },
  {
   "cell_type": "code",
   "execution_count": 13,
   "metadata": {},
   "outputs": [],
   "source": [
    "# we shall use the adjusted close because it takes into account all the \n",
    "# activites that have happened after the market closes\n",
    "# such as any announcements the company made or any dividends\n",
    "# it announced."
   ]
  },
  {
   "cell_type": "code",
   "execution_count": 14,
   "metadata": {},
   "outputs": [
    {
     "data": {
      "image/png": "[encoded data removed]",
      "text/plain": [
       "<Figure size 640x480 with 1 Axes>"
      ]
     },
     "metadata": {},
     "output_type": "display_data"
    },
    {
     "data": {
      "text/plain": [
       "<Figure size 1600x800 with 0 Axes>"
      ]
     },
     "metadata": {},
     "output_type": "display_data"
    }
   ],
   "source": [
    "# visualize the adj. closing price history\n",
    "plt.title('Adjusted Close Price History')\n",
    "plt.xlabel('Date', fontsize=18)\n",
    "plt.ylabel('Adjusted Close Price in Rupee', fontsize=18)\n",
    "plt.plot(hu['Adj Close'])\n",
    "plt.figure(figsize=(20,10))\n",
    "plt.show()"
   ]
  },
  {
   "cell_type": "code",
   "execution_count": 16,
   "metadata": {},
   "outputs": [],
   "source": [
    "#creating dataframe with only Adj Close\n",
    "data = hu.filter(['Adj Close'])\n",
    "#convert to numpy array\n",
    "dataset = data.values\n",
    "#using 10% of data to train and other 10% to test\n",
    "training_data_len = math.floor(len(dataset)*0.9)"
   ]
  },
  {
   "cell_type": "code",
   "execution_count": 17,
   "metadata": {},
   "outputs": [],
   "source": [
    "#normalizing the data is very important because LSTM is very sensisitive\n",
    "#to the scale of the data\n",
    "scaler = MinMaxScaler(feature_range = (0,1))\n",
    "scaled_data = scaler.fit_transform(dataset)"
   ]
  },
  {
   "cell_type": "code",
   "execution_count": 18,
   "metadata": {},
   "outputs": [],
   "source": [
    "#create the scaled training dataset\n",
    "data_for_training = scaled_data[0:training_data_len]\n",
    "\n",
    "#split into train and test dataset\n",
    "x_train, y_train = [], []\n",
    "\n",
    "for i in range(0,len(data_for_training)-60):\n",
    "    x_train.append(data_for_training[i:i+60,0])\n",
    "    y_train.append(data_for_training[i+60,0])\n"
   ]
  },
  {
   "cell_type": "code",
   "execution_count": 19,
   "metadata": {},
   "outputs": [],
   "source": [
    "#convert x_train and y_train to numpy arrays\n",
    "x_train, y_train = np.array(x_train),np.array(y_train)"
   ]
  },
  {
   "cell_type": "code",
   "execution_count": 20,
   "metadata": {},
   "outputs": [],
   "source": [
    "#reshape as LSTM needs 3D input \n",
    "x_train = np.reshape(x_train,(x_train.shape[0],x_train.shape[1],1))\n"
   ]
  },
  {
   "cell_type": "code",
   "execution_count": 21,
   "metadata": {},
   "outputs": [
    {
     "data": {
      "text/plain": [
       "(864, 60, 1)"
      ]
     },
     "execution_count": 21,
     "metadata": {},
     "output_type": "execute_result"
    }
   ],
   "source": [
    "x_train.shape"
   ]
  },
  {
   "cell_type": "code",
   "execution_count": 47,
   "metadata": {},
   "outputs": [],
   "source": [
    "#building stacked LSTM model\n",
    "model = Sequential()\n",
    "model.add(LSTM(70, return_sequences=True, input_shape=(x_train.shape[1],1)))\n",
    "model.add(Dropout(0.1))\n",
    "model.add(LSTM(70,return_sequences=True))\n",
    "model.add(Dropout(0.2))\n",
    "model.add(LSTM(70))\n",
    "model.add(Dense(1))"
   ]
  },
  {
   "cell_type": "code",
   "execution_count": 48,
   "metadata": {},
   "outputs": [
    {
     "name": "stdout",
     "output_type": "stream",
     "text": [
      "Model: \"sequential_2\"\n",
      "_________________________________________________________________\n",
      "Layer (type)                 Output Shape              Param #   \n",
      "=================================================================\n",
      "lstm_4 (LSTM)                (None, 60, 70)            20160     \n",
      "_________________________________________________________________\n",
      "dropout_3 (Dropout)          (None, 60, 70)            0         \n",
      "_________________________________________________________________\n",
      "lstm_5 (LSTM)                (None, 60, 70)            39480     \n",
      "_________________________________________________________________\n",
      "dropout_4 (Dropout)          (None, 60, 70)            0         \n",
      "_________________________________________________________________\n",
      "lstm_6 (LSTM)                (None, 70)                39480     \n",
      "_________________________________________________________________\n",
      "dense_2 (Dense)              (None, 1)                 71        \n",
      "=================================================================\n",
      "Total params: 99,191\n",
      "Trainable params: 99,191\n",
      "Non-trainable params: 0\n",
      "_________________________________________________________________\n"
     ]
    }
   ],
   "source": [
    "model.summary()"
   ]
  },
  {
   "cell_type": "code",
   "execution_count": 49,
   "metadata": {},
   "outputs": [],
   "source": [
    "#compiling the model\n",
    "model.compile(optimizer = 'adam',loss='mean_absolute_error',metrics=['mean_absolute_error'])"
   ]
  },
  {
   "cell_type": "code",
   "execution_count": 50,
   "metadata": {},
   "outputs": [
    {
     "name": "stdout",
     "output_type": "stream",
     "text": [
      "Epoch 1/50\n",
      "864/864 [==============================] - 3s 4ms/step - loss: 0.1128 - mean_absolute_error: 0.1128\n",
      "Epoch 2/50\n",
      "864/864 [==============================] - 2s 2ms/step - loss: 0.0437 - mean_absolute_error: 0.0437\n",
      "Epoch 3/50\n",
      "864/864 [==============================] - 2s 2ms/step - loss: 0.0250 - mean_absolute_error: 0.0250\n",
      "Epoch 4/50\n",
      "864/864 [==============================] - 2s 2ms/step - loss: 0.0239 - mean_absolute_error: 0.0239\n",
      "Epoch 5/50\n",
      "864/864 [==============================] - 2s 2ms/step - loss: 0.0230 - mean_absolute_error: 0.0230\n",
      "Epoch 6/50\n",
      "864/864 [==============================] - 2s 2ms/step - loss: 0.0232 - mean_absolute_error: 0.0232\n",
      "Epoch 7/50\n",
      "864/864 [==============================] - 2s 2ms/step - loss: 0.0232 - mean_absolute_error: 0.0232\n",
      "Epoch 8/50\n",
      "864/864 [==============================] - 2s 2ms/step - loss: 0.0214 - mean_absolute_error: 0.0214\n",
      "Epoch 9/50\n",
      "864/864 [==============================] - 2s 2ms/step - loss: 0.0212 - mean_absolute_error: 0.0212\n",
      "Epoch 10/50\n",
      "864/864 [==============================] - 2s 2ms/step - loss: 0.0216 - mean_absolute_error: 0.0216\n",
      "Epoch 11/50\n",
      "864/864 [==============================] - 2s 2ms/step - loss: 0.0221 - mean_absolute_error: 0.0221\n",
      "Epoch 12/50\n",
      "864/864 [==============================] - 2s 2ms/step - loss: 0.0216 - mean_absolute_error: 0.0216\n",
      "Epoch 13/50\n",
      "864/864 [==============================] - 2s 2ms/step - loss: 0.0202 - mean_absolute_error: 0.0202\n",
      "Epoch 14/50\n",
      "864/864 [==============================] - 2s 2ms/step - loss: 0.0211 - mean_absolute_error: 0.0211\n",
      "Epoch 15/50\n",
      "864/864 [==============================] - 2s 2ms/step - loss: 0.0236 - mean_absolute_error: 0.0236\n",
      "Epoch 16/50\n",
      "864/864 [==============================] - 2s 2ms/step - loss: 0.0228 - mean_absolute_error: 0.0228\n",
      "Epoch 17/50\n",
      "864/864 [==============================] - 2s 2ms/step - loss: 0.0216 - mean_absolute_error: 0.0216\n",
      "Epoch 18/50\n",
      "864/864 [==============================] - 2s 2ms/step - loss: 0.0210 - mean_absolute_error: 0.0210\n",
      "Epoch 19/50\n",
      "864/864 [==============================] - 2s 2ms/step - loss: 0.0207 - mean_absolute_error: 0.0207\n",
      "Epoch 20/50\n",
      "864/864 [==============================] - 2s 2ms/step - loss: 0.0193 - mean_absolute_error: 0.0193\n",
      "Epoch 21/50\n",
      "864/864 [==============================] - 2s 2ms/step - loss: 0.0196 - mean_absolute_error: 0.0196\n",
      "Epoch 22/50\n",
      "864/864 [==============================] - 2s 2ms/step - loss: 0.0197 - mean_absolute_error: 0.0197\n",
      "Epoch 23/50\n",
      "864/864 [==============================] - 2s 2ms/step - loss: 0.0224 - mean_absolute_error: 0.0224\n",
      "Epoch 24/50\n",
      "864/864 [==============================] - 2s 2ms/step - loss: 0.0222 - mean_absolute_error: 0.0222\n",
      "Epoch 25/50\n",
      "864/864 [==============================] - 2s 2ms/step - loss: 0.0199 - mean_absolute_error: 0.0199\n",
      "Epoch 26/50\n",
      "864/864 [==============================] - 2s 2ms/step - loss: 0.0195 - mean_absolute_error: 0.0195\n",
      "Epoch 27/50\n",
      "864/864 [==============================] - 2s 2ms/step - loss: 0.0192 - mean_absolute_error: 0.0192\n",
      "Epoch 28/50\n",
      "864/864 [==============================] - 2s 2ms/step - loss: 0.0169 - mean_absolute_error: 0.0169\n",
      "Epoch 29/50\n",
      "864/864 [==============================] - 2s 2ms/step - loss: 0.0179 - mean_absolute_error: 0.0179\n",
      "Epoch 30/50\n",
      "864/864 [==============================] - 2s 2ms/step - loss: 0.0194 - mean_absolute_error: 0.0194\n",
      "Epoch 31/50\n",
      "864/864 [==============================] - 2s 2ms/step - loss: 0.0208 - mean_absolute_error: 0.0208\n",
      "Epoch 32/50\n",
      "864/864 [==============================] - 2s 2ms/step - loss: 0.0198 - mean_absolute_error: 0.0198\n",
      "Epoch 33/50\n",
      "864/864 [==============================] - 2s 2ms/step - loss: 0.0183 - mean_absolute_error: 0.0183\n",
      "Epoch 34/50\n",
      "864/864 [==============================] - 2s 2ms/step - loss: 0.0170 - mean_absolute_error: 0.0170\n",
      "Epoch 35/50\n",
      "864/864 [==============================] - 2s 2ms/step - loss: 0.0181 - mean_absolute_error: 0.0181\n",
      "Epoch 36/50\n",
      "864/864 [==============================] - 2s 2ms/step - loss: 0.0179 - mean_absolute_error: 0.0179\n",
      "Epoch 37/50\n",
      "864/864 [==============================] - 2s 2ms/step - loss: 0.0194 - mean_absolute_error: 0.0194\n",
      "Epoch 38/50\n",
      "864/864 [==============================] - 2s 2ms/step - loss: 0.0175 - mean_absolute_error: 0.0175\n",
      "Epoch 39/50\n",
      "864/864 [==============================] - 2s 2ms/step - loss: 0.0174 - mean_absolute_error: 0.0174\n",
      "Epoch 40/50\n",
      "864/864 [==============================] - 2s 2ms/step - loss: 0.0169 - mean_absolute_error: 0.0169\n",
      "Epoch 41/50\n",
      "864/864 [==============================] - 2s 2ms/step - loss: 0.0185 - mean_absolute_error: 0.0185\n",
      "Epoch 42/50\n",
      "864/864 [==============================] - 2s 2ms/step - loss: 0.0173 - mean_absolute_error: 0.0173\n",
      "Epoch 43/50\n",
      "864/864 [==============================] - 2s 2ms/step - loss: 0.0160 - mean_absolute_error: 0.0160\n",
      "Epoch 44/50\n",
      "864/864 [==============================] - 2s 2ms/step - loss: 0.0166 - mean_absolute_error: 0.0166\n",
      "Epoch 45/50\n",
      "864/864 [==============================] - 2s 2ms/step - loss: 0.0182 - mean_absolute_error: 0.0182\n",
      "Epoch 46/50\n",
      "864/864 [==============================] - 2s 2ms/step - loss: 0.0184 - mean_absolute_error: 0.0184\n",
      "Epoch 47/50\n",
      "864/864 [==============================] - 2s 2ms/step - loss: 0.0153 - mean_absolute_error: 0.0153\n",
      "Epoch 48/50\n",
      "864/864 [==============================] - 2s 2ms/step - loss: 0.0167 - mean_absolute_error: 0.0167\n",
      "Epoch 49/50\n",
      "864/864 [==============================] - 2s 2ms/step - loss: 0.0172 - mean_absolute_error: 0.0172\n",
      "Epoch 50/50\n",
      "864/864 [==============================] - 2s 2ms/step - loss: 0.0163 - mean_absolute_error: 0.0163\n"
     ]
    }
   ],
   "source": [
    "#training the model\n",
    "history = model.fit(x_train, y_train,epochs=50, batch_size = 50)"
   ]
  },
  {
   "cell_type": "code",
   "execution_count": 51,
   "metadata": {},
   "outputs": [
    {
     "data": {
      "image/png": "[encoded data removed]",
      "text/plain": [
       "<Figure size 640x480 with 1 Axes>"
      ]
     },
     "metadata": {},
     "output_type": "display_data"
    }
   ],
   "source": [
    "history_dict = history.history\n",
    "\n",
    "plt.xlabel(\"Epochs\")\n",
    "plt.ylabel(\"Mean Absolute Error\")\n",
    "plt.plot(history_dict['mean_absolute_error'])\n",
    "plt.show()"
   ]
  },
  {
   "cell_type": "code",
   "execution_count": 52,
   "metadata": {},
   "outputs": [
    {
     "data": {
      "text/plain": [
       "1027"
      ]
     },
     "execution_count": 52,
     "metadata": {},
     "output_type": "execute_result"
    }
   ],
   "source": [
    "len(scaled_data)"
   ]
  },
  {
   "cell_type": "code",
   "execution_count": 53,
   "metadata": {},
   "outputs": [
    {
     "data": {
      "text/plain": [
       "924"
      ]
     },
     "execution_count": 53,
     "metadata": {},
     "output_type": "execute_result"
    }
   ],
   "source": [
    "training_data_len"
   ]
  },
  {
   "cell_type": "code",
   "execution_count": 54,
   "metadata": {},
   "outputs": [],
   "source": [
    "# create the testing dataset\n",
    "test_data = scaled_data[training_data_len-60: , :] # because x_test ended at the index training_data_len - 60\n"
   ]
  },
  {
   "cell_type": "code",
   "execution_count": 55,
   "metadata": {},
   "outputs": [],
   "source": [
    "y_test = dataset[training_data_len:, :] # actual data\n"
   ]
  },
  {
   "cell_type": "code",
   "execution_count": 56,
   "metadata": {},
   "outputs": [
    {
     "data": {
      "text/plain": [
       "103"
      ]
     },
     "execution_count": 56,
     "metadata": {},
     "output_type": "execute_result"
    }
   ],
   "source": [
    "len(y_test)"
   ]
  },
  {
   "cell_type": "code",
   "execution_count": 57,
   "metadata": {},
   "outputs": [],
   "source": [
    "x_test = []\n",
    "for i in range(0,len(test_data)-60):\n",
    "    x_test.append(test_data[i:i+60,0])"
   ]
  },
  {
   "cell_type": "code",
   "execution_count": 58,
   "metadata": {},
   "outputs": [
    {
     "data": {
      "text/plain": [
       "103"
      ]
     },
     "execution_count": 58,
     "metadata": {},
     "output_type": "execute_result"
    }
   ],
   "source": [
    "len(x_test)"
   ]
  },
  {
   "cell_type": "code",
   "execution_count": 59,
   "metadata": {},
   "outputs": [],
   "source": [
    "x_test = np.array(x_test)"
   ]
  },
  {
   "cell_type": "code",
   "execution_count": 60,
   "metadata": {},
   "outputs": [
    {
     "data": {
      "text/plain": [
       "(103, 60)"
      ]
     },
     "execution_count": 60,
     "metadata": {},
     "output_type": "execute_result"
    }
   ],
   "source": [
    "x_test.shape"
   ]
  },
  {
   "cell_type": "code",
   "execution_count": 61,
   "metadata": {},
   "outputs": [],
   "source": [
    "x_test = np.reshape(x_test,(x_test.shape[0],x_test.shape[1],1))"
   ]
  },
  {
   "cell_type": "code",
   "execution_count": 62,
   "metadata": {},
   "outputs": [
    {
     "data": {
      "text/plain": [
       "(103, 60, 1)"
      ]
     },
     "execution_count": 62,
     "metadata": {},
     "output_type": "execute_result"
    }
   ],
   "source": [
    "x_test.shape"
   ]
  },
  {
   "cell_type": "code",
   "execution_count": 63,
   "metadata": {},
   "outputs": [],
   "source": [
    "predictions = model.predict(x_test)"
   ]
  },
  {
   "cell_type": "code",
   "execution_count": 64,
   "metadata": {},
   "outputs": [
    {
     "data": {
      "text/plain": [
       "(103, 1)"
      ]
     },
     "execution_count": 64,
     "metadata": {},
     "output_type": "execute_result"
    }
   ],
   "source": [
    "predictions.shape"
   ]
  },
  {
   "cell_type": "code",
   "execution_count": 65,
   "metadata": {},
   "outputs": [
    {
     "data": {
      "text/plain": [
       "(103, 1)"
      ]
     },
     "execution_count": 65,
     "metadata": {},
     "output_type": "execute_result"
    }
   ],
   "source": [
    "y_test.shape"
   ]
  },
  {
   "cell_type": "code",
   "execution_count": 66,
   "metadata": {},
   "outputs": [],
   "source": [
    "predictions = scaler.inverse_transform(predictions)"
   ]
  },
  {
   "cell_type": "code",
   "execution_count": 67,
   "metadata": {},
   "outputs": [],
   "source": [
    "mae = np.mean(np.abs(predictions-y_test))"
   ]
  },
  {
   "cell_type": "code",
   "execution_count": 68,
   "metadata": {},
   "outputs": [
    {
     "data": {
      "text/plain": [
       "36.92958439206614"
      ]
     },
     "execution_count": 68,
     "metadata": {},
     "output_type": "execute_result"
    }
   ],
   "source": [
    "mae"
   ]
  },
  {
   "cell_type": "code",
   "execution_count": 69,
   "metadata": {},
   "outputs": [
    {
     "data": {
      "text/plain": [
       "103"
      ]
     },
     "execution_count": 69,
     "metadata": {},
     "output_type": "execute_result"
    }
   ],
   "source": [
    "len(predictions)"
   ]
  },
  {
   "cell_type": "code",
   "execution_count": 70,
   "metadata": {},
   "outputs": [
    {
     "data": {
      "text/plain": [
       "50.73653041817673"
      ]
     },
     "execution_count": 70,
     "metadata": {},
     "output_type": "execute_result"
    }
   ],
   "source": [
    "math.sqrt(mean_squared_error(y_test,predictions))\n"
   ]
  },
  {
   "cell_type": "code",
   "execution_count": 71,
   "metadata": {},
   "outputs": [
    {
     "name": "stderr",
     "output_type": "stream",
     "text": [
      "/home/terminatorash2199/anaconda3/lib/python3.6/site-packages/ipykernel_launcher.py:4: SettingWithCopyWarning: \n",
      "A value is trying to be set on a copy of a slice from a DataFrame.\n",
      "Try using .loc[row_indexer,col_indexer] = value instead\n",
      "\n",
      "See the caveats in the documentation: http://pandas.pydata.org/pandas-docs/stable/indexing.html#indexing-view-versus-copy\n",
      "  after removing the cwd from sys.path.\n"
     ]
    },
    {
     "data": {
      "image/png": "[encoded data removed]",
      "text/plain": [
       "<Figure size 1280x640 with 1 Axes>"
      ]
     },
     "metadata": {},
     "output_type": "display_data"
    }
   ],
   "source": [
    "# plot the data\n",
    "train = data[:training_data_len]\n",
    "actual = data[training_data_len:]\n",
    "actual['Predictions'] = predictions\n",
    "\n",
    "# visualize the data\n",
    "plt.figure(figsize=(16,8))\n",
    "plt.title(\"model\")\n",
    "plt.xlabel('Date', fontsize =18)\n",
    "plt.ylabel('Close Price in Rupee', fontsize=18)\n",
    "\n",
    "plt.plot(train['Adj Close'])\n",
    "plt.plot(actual[['Adj Close','Predictions']])\n",
    "plt.legend(['Train', 'Actual', 'Predictions'], loc='lower right')\n",
    "plt.show()"
   ]
  },
  {
   "cell_type": "code",
   "execution_count": 72,
   "metadata": {},
   "outputs": [
    {
     "data": {
      "text/html": [
       "<div>\n",
       "<style scoped>\n",
       "    .dataframe tbody tr th:only-of-type {\n",
       "        vertical-align: middle;\n",
       "    }\n",
       "\n",
       "    .dataframe tbody tr th {\n",
       "        vertical-align: top;\n",
       "    }\n",
       "\n",
       "    .dataframe thead th {\n",
       "        text-align: right;\n",
       "    }\n",
       "</style>\n",
       "<table border=\"1\" class=\"dataframe\">\n",
       "  <thead>\n",
       "    <tr style=\"text-align: right;\">\n",
       "      <th></th>\n",
       "      <th>Adj Close</th>\n",
       "      <th>Predictions</th>\n",
       "    </tr>\n",
       "    <tr>\n",
       "      <th>Date</th>\n",
       "      <th></th>\n",
       "      <th></th>\n",
       "    </tr>\n",
       "  </thead>\n",
       "  <tbody>\n",
       "    <tr>\n",
       "      <th>2019-07-25</th>\n",
       "      <td>1727.024536</td>\n",
       "      <td>1734.034912</td>\n",
       "    </tr>\n",
       "    <tr>\n",
       "      <th>2019-07-26</th>\n",
       "      <td>1721.702271</td>\n",
       "      <td>1733.114258</td>\n",
       "    </tr>\n",
       "    <tr>\n",
       "      <th>2019-07-29</th>\n",
       "      <td>1704.193237</td>\n",
       "      <td>1734.642822</td>\n",
       "    </tr>\n",
       "    <tr>\n",
       "      <th>2019-07-30</th>\n",
       "      <td>1710.560059</td>\n",
       "      <td>1736.237671</td>\n",
       "    </tr>\n",
       "    <tr>\n",
       "      <th>2019-07-31</th>\n",
       "      <td>1717.026489</td>\n",
       "      <td>1737.641968</td>\n",
       "    </tr>\n",
       "    <tr>\n",
       "      <th>2019-08-01</th>\n",
       "      <td>1721.901245</td>\n",
       "      <td>1739.223755</td>\n",
       "    </tr>\n",
       "    <tr>\n",
       "      <th>2019-08-02</th>\n",
       "      <td>1728.566650</td>\n",
       "      <td>1741.298096</td>\n",
       "    </tr>\n",
       "    <tr>\n",
       "      <th>2019-08-05</th>\n",
       "      <td>1731.750000</td>\n",
       "      <td>1744.180176</td>\n",
       "    </tr>\n",
       "    <tr>\n",
       "      <th>2019-08-06</th>\n",
       "      <td>1735.878540</td>\n",
       "      <td>1747.745728</td>\n",
       "    </tr>\n",
       "    <tr>\n",
       "      <th>2019-08-07</th>\n",
       "      <td>1769.852051</td>\n",
       "      <td>1751.804443</td>\n",
       "    </tr>\n",
       "    <tr>\n",
       "      <th>2019-08-08</th>\n",
       "      <td>1793.877075</td>\n",
       "      <td>1758.557129</td>\n",
       "    </tr>\n",
       "    <tr>\n",
       "      <th>2019-08-09</th>\n",
       "      <td>1830.337646</td>\n",
       "      <td>1769.172485</td>\n",
       "    </tr>\n",
       "    <tr>\n",
       "      <th>2019-08-13</th>\n",
       "      <td>1815.415161</td>\n",
       "      <td>1784.954590</td>\n",
       "    </tr>\n",
       "    <tr>\n",
       "      <th>2019-08-14</th>\n",
       "      <td>1827.900391</td>\n",
       "      <td>1802.209473</td>\n",
       "    </tr>\n",
       "    <tr>\n",
       "      <th>2019-08-16</th>\n",
       "      <td>1816.758179</td>\n",
       "      <td>1819.144897</td>\n",
       "    </tr>\n",
       "    <tr>\n",
       "      <th>2019-08-19</th>\n",
       "      <td>1811.286621</td>\n",
       "      <td>1832.977051</td>\n",
       "    </tr>\n",
       "    <tr>\n",
       "      <th>2019-08-20</th>\n",
       "      <td>1831.531494</td>\n",
       "      <td>1842.243774</td>\n",
       "    </tr>\n",
       "    <tr>\n",
       "      <th>2019-08-21</th>\n",
       "      <td>1840.335693</td>\n",
       "      <td>1848.721924</td>\n",
       "    </tr>\n",
       "    <tr>\n",
       "      <th>2019-08-22</th>\n",
       "      <td>1862.570190</td>\n",
       "      <td>1853.772705</td>\n",
       "    </tr>\n",
       "    <tr>\n",
       "      <th>2019-08-23</th>\n",
       "      <td>1849.736816</td>\n",
       "      <td>1859.515503</td>\n",
       "    </tr>\n",
       "    <tr>\n",
       "      <th>2019-08-26</th>\n",
       "      <td>1865.057251</td>\n",
       "      <td>1864.668213</td>\n",
       "    </tr>\n",
       "    <tr>\n",
       "      <th>2019-08-27</th>\n",
       "      <td>1851.925537</td>\n",
       "      <td>1869.860718</td>\n",
       "    </tr>\n",
       "    <tr>\n",
       "      <th>2019-08-28</th>\n",
       "      <td>1818.300171</td>\n",
       "      <td>1873.609009</td>\n",
       "    </tr>\n",
       "    <tr>\n",
       "      <th>2019-08-29</th>\n",
       "      <td>1820.787354</td>\n",
       "      <td>1872.816772</td>\n",
       "    </tr>\n",
       "    <tr>\n",
       "      <th>2019-08-30</th>\n",
       "      <td>1870.379517</td>\n",
       "      <td>1868.250977</td>\n",
       "    </tr>\n",
       "    <tr>\n",
       "      <th>2019-09-03</th>\n",
       "      <td>1833.172852</td>\n",
       "      <td>1865.570557</td>\n",
       "    </tr>\n",
       "    <tr>\n",
       "      <th>2019-09-04</th>\n",
       "      <td>1837.699463</td>\n",
       "      <td>1862.761108</td>\n",
       "    </tr>\n",
       "    <tr>\n",
       "      <th>2019-09-05</th>\n",
       "      <td>1819.891968</td>\n",
       "      <td>1860.019897</td>\n",
       "    </tr>\n",
       "    <tr>\n",
       "      <th>2019-09-06</th>\n",
       "      <td>1809.247314</td>\n",
       "      <td>1856.082764</td>\n",
       "    </tr>\n",
       "    <tr>\n",
       "      <th>2019-09-09</th>\n",
       "      <td>1823.921021</td>\n",
       "      <td>1850.438965</td>\n",
       "    </tr>\n",
       "    <tr>\n",
       "      <th>...</th>\n",
       "      <td>...</td>\n",
       "      <td>...</td>\n",
       "    </tr>\n",
       "    <tr>\n",
       "      <th>2019-11-18</th>\n",
       "      <td>2056.699951</td>\n",
       "      <td>2068.855469</td>\n",
       "    </tr>\n",
       "    <tr>\n",
       "      <th>2019-11-19</th>\n",
       "      <td>2036.949951</td>\n",
       "      <td>2053.993164</td>\n",
       "    </tr>\n",
       "    <tr>\n",
       "      <th>2019-11-20</th>\n",
       "      <td>2026.199951</td>\n",
       "      <td>2041.087036</td>\n",
       "    </tr>\n",
       "    <tr>\n",
       "      <th>2019-11-21</th>\n",
       "      <td>2049.649902</td>\n",
       "      <td>2029.754028</td>\n",
       "    </tr>\n",
       "    <tr>\n",
       "      <th>2019-11-22</th>\n",
       "      <td>2024.199951</td>\n",
       "      <td>2022.536743</td>\n",
       "    </tr>\n",
       "    <tr>\n",
       "      <th>2019-11-25</th>\n",
       "      <td>2061.000000</td>\n",
       "      <td>2017.448975</td>\n",
       "    </tr>\n",
       "    <tr>\n",
       "      <th>2019-11-26</th>\n",
       "      <td>2061.199951</td>\n",
       "      <td>2017.149292</td>\n",
       "    </tr>\n",
       "    <tr>\n",
       "      <th>2019-11-27</th>\n",
       "      <td>2092.699951</td>\n",
       "      <td>2021.020386</td>\n",
       "    </tr>\n",
       "    <tr>\n",
       "      <th>2019-11-28</th>\n",
       "      <td>2085.550049</td>\n",
       "      <td>2030.212280</td>\n",
       "    </tr>\n",
       "    <tr>\n",
       "      <th>2019-11-29</th>\n",
       "      <td>2036.099976</td>\n",
       "      <td>2042.106689</td>\n",
       "    </tr>\n",
       "    <tr>\n",
       "      <th>2019-12-02</th>\n",
       "      <td>2044.199951</td>\n",
       "      <td>2050.097900</td>\n",
       "    </tr>\n",
       "    <tr>\n",
       "      <th>2019-12-03</th>\n",
       "      <td>2028.849976</td>\n",
       "      <td>2053.840088</td>\n",
       "    </tr>\n",
       "    <tr>\n",
       "      <th>2019-12-04</th>\n",
       "      <td>2048.199951</td>\n",
       "      <td>2052.862793</td>\n",
       "    </tr>\n",
       "    <tr>\n",
       "      <th>2019-12-05</th>\n",
       "      <td>2036.250000</td>\n",
       "      <td>2050.270020</td>\n",
       "    </tr>\n",
       "    <tr>\n",
       "      <th>2019-12-06</th>\n",
       "      <td>2025.500000</td>\n",
       "      <td>2046.515625</td>\n",
       "    </tr>\n",
       "    <tr>\n",
       "      <th>2019-12-09</th>\n",
       "      <td>2009.849976</td>\n",
       "      <td>2041.544556</td>\n",
       "    </tr>\n",
       "    <tr>\n",
       "      <th>2019-12-10</th>\n",
       "      <td>2025.000000</td>\n",
       "      <td>2034.834595</td>\n",
       "    </tr>\n",
       "    <tr>\n",
       "      <th>2019-12-11</th>\n",
       "      <td>2009.599976</td>\n",
       "      <td>2028.655884</td>\n",
       "    </tr>\n",
       "    <tr>\n",
       "      <th>2019-12-12</th>\n",
       "      <td>2006.449951</td>\n",
       "      <td>2022.631836</td>\n",
       "    </tr>\n",
       "    <tr>\n",
       "      <th>2019-12-13</th>\n",
       "      <td>2005.300049</td>\n",
       "      <td>2016.944702</td>\n",
       "    </tr>\n",
       "    <tr>\n",
       "      <th>2019-12-16</th>\n",
       "      <td>1973.900024</td>\n",
       "      <td>2011.955200</td>\n",
       "    </tr>\n",
       "    <tr>\n",
       "      <th>2019-12-17</th>\n",
       "      <td>1964.449951</td>\n",
       "      <td>2005.370239</td>\n",
       "    </tr>\n",
       "    <tr>\n",
       "      <th>2019-12-18</th>\n",
       "      <td>1929.250000</td>\n",
       "      <td>1996.954468</td>\n",
       "    </tr>\n",
       "    <tr>\n",
       "      <th>2019-12-19</th>\n",
       "      <td>1949.949951</td>\n",
       "      <td>1985.010010</td>\n",
       "    </tr>\n",
       "    <tr>\n",
       "      <th>2019-12-20</th>\n",
       "      <td>1947.099976</td>\n",
       "      <td>1972.999146</td>\n",
       "    </tr>\n",
       "    <tr>\n",
       "      <th>2019-12-23</th>\n",
       "      <td>1950.050049</td>\n",
       "      <td>1962.596069</td>\n",
       "    </tr>\n",
       "    <tr>\n",
       "      <th>2019-12-24</th>\n",
       "      <td>1946.449951</td>\n",
       "      <td>1954.995117</td>\n",
       "    </tr>\n",
       "    <tr>\n",
       "      <th>2019-12-26</th>\n",
       "      <td>1945.099976</td>\n",
       "      <td>1950.102905</td>\n",
       "    </tr>\n",
       "    <tr>\n",
       "      <th>2019-12-27</th>\n",
       "      <td>1949.949951</td>\n",
       "      <td>1947.488647</td>\n",
       "    </tr>\n",
       "    <tr>\n",
       "      <th>2019-12-30</th>\n",
       "      <td>1936.800049</td>\n",
       "      <td>1947.072388</td>\n",
       "    </tr>\n",
       "  </tbody>\n",
       "</table>\n",
       "<p>103 rows × 2 columns</p>\n",
       "</div>"
      ],
      "text/plain": [
       "              Adj Close  Predictions\n",
       "Date                                \n",
       "2019-07-25  1727.024536  1734.034912\n",
       "2019-07-26  1721.702271  1733.114258\n",
       "2019-07-29  1704.193237  1734.642822\n",
       "2019-07-30  1710.560059  1736.237671\n",
       "2019-07-31  1717.026489  1737.641968\n",
       "2019-08-01  1721.901245  1739.223755\n",
       "2019-08-02  1728.566650  1741.298096\n",
       "2019-08-05  1731.750000  1744.180176\n",
       "2019-08-06  1735.878540  1747.745728\n",
       "2019-08-07  1769.852051  1751.804443\n",
       "2019-08-08  1793.877075  1758.557129\n",
       "2019-08-09  1830.337646  1769.172485\n",
       "2019-08-13  1815.415161  1784.954590\n",
       "2019-08-14  1827.900391  1802.209473\n",
       "2019-08-16  1816.758179  1819.144897\n",
       "2019-08-19  1811.286621  1832.977051\n",
       "2019-08-20  1831.531494  1842.243774\n",
       "2019-08-21  1840.335693  1848.721924\n",
       "2019-08-22  1862.570190  1853.772705\n",
       "2019-08-23  1849.736816  1859.515503\n",
       "2019-08-26  1865.057251  1864.668213\n",
       "2019-08-27  1851.925537  1869.860718\n",
       "2019-08-28  1818.300171  1873.609009\n",
       "2019-08-29  1820.787354  1872.816772\n",
       "2019-08-30  1870.379517  1868.250977\n",
       "2019-09-03  1833.172852  1865.570557\n",
       "2019-09-04  1837.699463  1862.761108\n",
       "2019-09-05  1819.891968  1860.019897\n",
       "2019-09-06  1809.247314  1856.082764\n",
       "2019-09-09  1823.921021  1850.438965\n",
       "...                 ...          ...\n",
       "2019-11-18  2056.699951  2068.855469\n",
       "2019-11-19  2036.949951  2053.993164\n",
       "2019-11-20  2026.199951  2041.087036\n",
       "2019-11-21  2049.649902  2029.754028\n",
       "2019-11-22  2024.199951  2022.536743\n",
       "2019-11-25  2061.000000  2017.448975\n",
       "2019-11-26  2061.199951  2017.149292\n",
       "2019-11-27  2092.699951  2021.020386\n",
       "2019-11-28  2085.550049  2030.212280\n",
       "2019-11-29  2036.099976  2042.106689\n",
       "2019-12-02  2044.199951  2050.097900\n",
       "2019-12-03  2028.849976  2053.840088\n",
       "2019-12-04  2048.199951  2052.862793\n",
       "2019-12-05  2036.250000  2050.270020\n",
       "2019-12-06  2025.500000  2046.515625\n",
       "2019-12-09  2009.849976  2041.544556\n",
       "2019-12-10  2025.000000  2034.834595\n",
       "2019-12-11  2009.599976  2028.655884\n",
       "2019-12-12  2006.449951  2022.631836\n",
       "2019-12-13  2005.300049  2016.944702\n",
       "2019-12-16  1973.900024  2011.955200\n",
       "2019-12-17  1964.449951  2005.370239\n",
       "2019-12-18  1929.250000  1996.954468\n",
       "2019-12-19  1949.949951  1985.010010\n",
       "2019-12-20  1947.099976  1972.999146\n",
       "2019-12-23  1950.050049  1962.596069\n",
       "2019-12-24  1946.449951  1954.995117\n",
       "2019-12-26  1945.099976  1950.102905\n",
       "2019-12-27  1949.949951  1947.488647\n",
       "2019-12-30  1936.800049  1947.072388\n",
       "\n",
       "[103 rows x 2 columns]"
      ]
     },
     "execution_count": 72,
     "metadata": {},
     "output_type": "execute_result"
    }
   ],
   "source": [
    "actual"
   ]
  },
  {
   "cell_type": "code",
   "execution_count": null,
   "metadata": {},
   "outputs": [],
   "source": []
  }
 ],
 "metadata": {
  "kernelspec": {
   "display_name": "Python 3",
   "language": "python",
   "name": "python3"
  },
  "language_info": {
   "codemirror_mode": {
    "name": "ipython",
    "version": 3
   },
   "file_extension": ".py",
   "mimetype": "text/x-python",
   "name": "python",
   "nbconvert_exporter": "python",
   "pygments_lexer": "ipython3",
   "version": "3.6.8"
  }
 },
 "nbformat": 4,
 "nbformat_minor": 4
}
